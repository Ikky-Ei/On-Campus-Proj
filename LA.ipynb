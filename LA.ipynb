{
  "nbformat": 4,
  "nbformat_minor": 0,
  "metadata": {
    "colab": {
      "provenance": []
    },
    "kernelspec": {
      "name": "python3",
      "display_name": "Python 3"
    },
    "language_info": {
      "name": "python"
    }
  },
  "cells": [
    {
      "cell_type": "markdown",
      "source": [
        "## Dự báo doanh thu trong năm 2024 của 1 sản phầm B1 trong năm tiếp theo"
      ],
      "metadata": {
        "id": "DglAKgw9oRfb"
      }
    },
    {
      "cell_type": "code",
      "source": [
        "# khai báo thư viện\n",
        "import pandas as pd\n",
        "import numpy as np\n",
        "import sklearn"
      ],
      "metadata": {
        "id": "1uZjFmkQofnK"
      },
      "execution_count": 1,
      "outputs": []
    },
    {
      "cell_type": "code",
      "source": [
        "B1_path = \"/content/drive/MyDrive/B1_Plan.xlsx\"\n",
        "B1_competitors_path = \"/content/drive/MyDrive/B1_Competitors.xlsx\""
      ],
      "metadata": {
        "id": "NYQU01w6oeOK"
      },
      "execution_count": 2,
      "outputs": []
    },
    {
      "cell_type": "markdown",
      "source": [
        "#### Đọc dữ liệu"
      ],
      "metadata": {
        "id": "9SbQ94N1pCrX"
      }
    },
    {
      "cell_type": "code",
      "source": [
        "df_B1 = pd.read_excel(B1_path, header = 2)\n",
        "df_B1_competitors = pd.read_excel(B1_competitors_path, sheet_name = \"Giá trị_Lượng\")\n"
      ],
      "metadata": {
        "id": "tE48LD6goyjA"
      },
      "execution_count": 3,
      "outputs": []
    },
    {
      "cell_type": "code",
      "source": [
        "df_B1"
      ],
      "metadata": {
        "colab": {
          "base_uri": "https://localhost:8080/",
          "height": 127
        },
        "id": "Zv72uX4MpLMo",
        "outputId": "a09626bb-e8f4-4503-ef85-a5972d604ffb"
      },
      "execution_count": 4,
      "outputs": [
        {
          "output_type": "execute_result",
          "data": {
            "text/plain": [
              "  Tên sản phẩm  Quý 1  Unnamed: 2  Quý 2  Unnamed: 4  Quý 3  Unnamed: 6  \\\n",
              "0           B1    735     68.0022    330     30.5316    560      57.568   \n",
              "\n",
              "   Quý 4  Unnamed: 8  Quý 1.1  ...  Quý 4.1  Unnamed: 16  Quý 1.2  \\\n",
              "0    750        77.1      730  ...      450        46.26      555   \n",
              "\n",
              "   Unnamed: 18  Quý 2.2  Unnamed: 20  Quý 3.2  Unnamed: 22  Quý 4.2  \\\n",
              "0       57.054      600        61.68      400        41.12      800   \n",
              "\n",
              "   Unnamed: 24  \n",
              "0        82.24  \n",
              "\n",
              "[1 rows x 25 columns]"
            ],
            "text/html": [
              "\n",
              "  <div id=\"df-be51e355-bebd-41fa-a3d6-d272e425b21d\" class=\"colab-df-container\">\n",
              "    <div>\n",
              "<style scoped>\n",
              "    .dataframe tbody tr th:only-of-type {\n",
              "        vertical-align: middle;\n",
              "    }\n",
              "\n",
              "    .dataframe tbody tr th {\n",
              "        vertical-align: top;\n",
              "    }\n",
              "\n",
              "    .dataframe thead th {\n",
              "        text-align: right;\n",
              "    }\n",
              "</style>\n",
              "<table border=\"1\" class=\"dataframe\">\n",
              "  <thead>\n",
              "    <tr style=\"text-align: right;\">\n",
              "      <th></th>\n",
              "      <th>Tên sản phẩm</th>\n",
              "      <th>Quý 1</th>\n",
              "      <th>Unnamed: 2</th>\n",
              "      <th>Quý 2</th>\n",
              "      <th>Unnamed: 4</th>\n",
              "      <th>Quý 3</th>\n",
              "      <th>Unnamed: 6</th>\n",
              "      <th>Quý 4</th>\n",
              "      <th>Unnamed: 8</th>\n",
              "      <th>Quý 1.1</th>\n",
              "      <th>...</th>\n",
              "      <th>Quý 4.1</th>\n",
              "      <th>Unnamed: 16</th>\n",
              "      <th>Quý 1.2</th>\n",
              "      <th>Unnamed: 18</th>\n",
              "      <th>Quý 2.2</th>\n",
              "      <th>Unnamed: 20</th>\n",
              "      <th>Quý 3.2</th>\n",
              "      <th>Unnamed: 22</th>\n",
              "      <th>Quý 4.2</th>\n",
              "      <th>Unnamed: 24</th>\n",
              "    </tr>\n",
              "  </thead>\n",
              "  <tbody>\n",
              "    <tr>\n",
              "      <th>0</th>\n",
              "      <td>B1</td>\n",
              "      <td>735</td>\n",
              "      <td>68.0022</td>\n",
              "      <td>330</td>\n",
              "      <td>30.5316</td>\n",
              "      <td>560</td>\n",
              "      <td>57.568</td>\n",
              "      <td>750</td>\n",
              "      <td>77.1</td>\n",
              "      <td>730</td>\n",
              "      <td>...</td>\n",
              "      <td>450</td>\n",
              "      <td>46.26</td>\n",
              "      <td>555</td>\n",
              "      <td>57.054</td>\n",
              "      <td>600</td>\n",
              "      <td>61.68</td>\n",
              "      <td>400</td>\n",
              "      <td>41.12</td>\n",
              "      <td>800</td>\n",
              "      <td>82.24</td>\n",
              "    </tr>\n",
              "  </tbody>\n",
              "</table>\n",
              "<p>1 rows × 25 columns</p>\n",
              "</div>\n",
              "    <div class=\"colab-df-buttons\">\n",
              "\n",
              "  <div class=\"colab-df-container\">\n",
              "    <button class=\"colab-df-convert\" onclick=\"convertToInteractive('df-be51e355-bebd-41fa-a3d6-d272e425b21d')\"\n",
              "            title=\"Convert this dataframe to an interactive table.\"\n",
              "            style=\"display:none;\">\n",
              "\n",
              "  <svg xmlns=\"http://www.w3.org/2000/svg\" height=\"24px\" viewBox=\"0 -960 960 960\">\n",
              "    <path d=\"M120-120v-720h720v720H120Zm60-500h600v-160H180v160Zm220 220h160v-160H400v160Zm0 220h160v-160H400v160ZM180-400h160v-160H180v160Zm440 0h160v-160H620v160ZM180-180h160v-160H180v160Zm440 0h160v-160H620v160Z\"/>\n",
              "  </svg>\n",
              "    </button>\n",
              "\n",
              "  <style>\n",
              "    .colab-df-container {\n",
              "      display:flex;\n",
              "      gap: 12px;\n",
              "    }\n",
              "\n",
              "    .colab-df-convert {\n",
              "      background-color: #E8F0FE;\n",
              "      border: none;\n",
              "      border-radius: 50%;\n",
              "      cursor: pointer;\n",
              "      display: none;\n",
              "      fill: #1967D2;\n",
              "      height: 32px;\n",
              "      padding: 0 0 0 0;\n",
              "      width: 32px;\n",
              "    }\n",
              "\n",
              "    .colab-df-convert:hover {\n",
              "      background-color: #E2EBFA;\n",
              "      box-shadow: 0px 1px 2px rgba(60, 64, 67, 0.3), 0px 1px 3px 1px rgba(60, 64, 67, 0.15);\n",
              "      fill: #174EA6;\n",
              "    }\n",
              "\n",
              "    .colab-df-buttons div {\n",
              "      margin-bottom: 4px;\n",
              "    }\n",
              "\n",
              "    [theme=dark] .colab-df-convert {\n",
              "      background-color: #3B4455;\n",
              "      fill: #D2E3FC;\n",
              "    }\n",
              "\n",
              "    [theme=dark] .colab-df-convert:hover {\n",
              "      background-color: #434B5C;\n",
              "      box-shadow: 0px 1px 3px 1px rgba(0, 0, 0, 0.15);\n",
              "      filter: drop-shadow(0px 1px 2px rgba(0, 0, 0, 0.3));\n",
              "      fill: #FFFFFF;\n",
              "    }\n",
              "  </style>\n",
              "\n",
              "    <script>\n",
              "      const buttonEl =\n",
              "        document.querySelector('#df-be51e355-bebd-41fa-a3d6-d272e425b21d button.colab-df-convert');\n",
              "      buttonEl.style.display =\n",
              "        google.colab.kernel.accessAllowed ? 'block' : 'none';\n",
              "\n",
              "      async function convertToInteractive(key) {\n",
              "        const element = document.querySelector('#df-be51e355-bebd-41fa-a3d6-d272e425b21d');\n",
              "        const dataTable =\n",
              "          await google.colab.kernel.invokeFunction('convertToInteractive',\n",
              "                                                    [key], {});\n",
              "        if (!dataTable) return;\n",
              "\n",
              "        const docLinkHtml = 'Like what you see? Visit the ' +\n",
              "          '<a target=\"_blank\" href=https://colab.research.google.com/notebooks/data_table.ipynb>data table notebook</a>'\n",
              "          + ' to learn more about interactive tables.';\n",
              "        element.innerHTML = '';\n",
              "        dataTable['output_type'] = 'display_data';\n",
              "        await google.colab.output.renderOutput(dataTable, element);\n",
              "        const docLink = document.createElement('div');\n",
              "        docLink.innerHTML = docLinkHtml;\n",
              "        element.appendChild(docLink);\n",
              "      }\n",
              "    </script>\n",
              "  </div>\n",
              "\n",
              "\n",
              "  <div id=\"id_b846f3bf-bbcd-44a3-a80c-dd1bf120c623\">\n",
              "    <style>\n",
              "      .colab-df-generate {\n",
              "        background-color: #E8F0FE;\n",
              "        border: none;\n",
              "        border-radius: 50%;\n",
              "        cursor: pointer;\n",
              "        display: none;\n",
              "        fill: #1967D2;\n",
              "        height: 32px;\n",
              "        padding: 0 0 0 0;\n",
              "        width: 32px;\n",
              "      }\n",
              "\n",
              "      .colab-df-generate:hover {\n",
              "        background-color: #E2EBFA;\n",
              "        box-shadow: 0px 1px 2px rgba(60, 64, 67, 0.3), 0px 1px 3px 1px rgba(60, 64, 67, 0.15);\n",
              "        fill: #174EA6;\n",
              "      }\n",
              "\n",
              "      [theme=dark] .colab-df-generate {\n",
              "        background-color: #3B4455;\n",
              "        fill: #D2E3FC;\n",
              "      }\n",
              "\n",
              "      [theme=dark] .colab-df-generate:hover {\n",
              "        background-color: #434B5C;\n",
              "        box-shadow: 0px 1px 3px 1px rgba(0, 0, 0, 0.15);\n",
              "        filter: drop-shadow(0px 1px 2px rgba(0, 0, 0, 0.3));\n",
              "        fill: #FFFFFF;\n",
              "      }\n",
              "    </style>\n",
              "    <button class=\"colab-df-generate\" onclick=\"generateWithVariable('df_B1')\"\n",
              "            title=\"Generate code using this dataframe.\"\n",
              "            style=\"display:none;\">\n",
              "\n",
              "  <svg xmlns=\"http://www.w3.org/2000/svg\" height=\"24px\"viewBox=\"0 0 24 24\"\n",
              "       width=\"24px\">\n",
              "    <path d=\"M7,19H8.4L18.45,9,17,7.55,7,17.6ZM5,21V16.75L18.45,3.32a2,2,0,0,1,2.83,0l1.4,1.43a1.91,1.91,0,0,1,.58,1.4,1.91,1.91,0,0,1-.58,1.4L9.25,21ZM18.45,9,17,7.55Zm-12,3A5.31,5.31,0,0,0,4.9,8.1,5.31,5.31,0,0,0,1,6.5,5.31,5.31,0,0,0,4.9,4.9,5.31,5.31,0,0,0,6.5,1,5.31,5.31,0,0,0,8.1,4.9,5.31,5.31,0,0,0,12,6.5,5.46,5.46,0,0,0,6.5,12Z\"/>\n",
              "  </svg>\n",
              "    </button>\n",
              "    <script>\n",
              "      (() => {\n",
              "      const buttonEl =\n",
              "        document.querySelector('#id_b846f3bf-bbcd-44a3-a80c-dd1bf120c623 button.colab-df-generate');\n",
              "      buttonEl.style.display =\n",
              "        google.colab.kernel.accessAllowed ? 'block' : 'none';\n",
              "\n",
              "      buttonEl.onclick = () => {\n",
              "        google.colab.notebook.generateWithVariable('df_B1');\n",
              "      }\n",
              "      })();\n",
              "    </script>\n",
              "  </div>\n",
              "\n",
              "    </div>\n",
              "  </div>\n"
            ]
          },
          "metadata": {},
          "execution_count": 4
        }
      ]
    },
    {
      "cell_type": "code",
      "source": [
        "df_B1_competitors"
      ],
      "metadata": {
        "colab": {
          "base_uri": "https://localhost:8080/",
          "height": 273
        },
        "id": "ns0c_w_gpUYJ",
        "outputId": "1ce92556-e22d-4af2-ab1e-154d5a71bfd6"
      },
      "execution_count": 5,
      "outputs": [
        {
          "output_type": "execute_result",
          "data": {
            "text/plain": [
              "     Lượng            2020     Unnamed: 2      Unnamed: 3      Unnamed: 4  \\\n",
              "0      NaN         Tháng 1        Tháng 2         Tháng 3         Tháng 4   \n",
              "1       B1         1939043        1013651         2451126         2989985   \n",
              "2  Giá trị            2020            NaN             NaN             NaN   \n",
              "3      NaN         Tháng 1        Tháng 2         Tháng 3         Tháng 4   \n",
              "4       B1  1498821.429454  647526.930521  1403030.006489  2189582.624893   \n",
              "\n",
              "      Unnamed: 5     Unnamed: 6     Unnamed: 7     Unnamed: 8     Unnamed: 9  \\\n",
              "0        Tháng 5        Tháng 6        Tháng 7        Tháng 8        Tháng 9   \n",
              "1        6049315        2418846        6759353        8837352        2842175   \n",
              "2            NaN            NaN            NaN            NaN            NaN   \n",
              "3        Tháng 5        Tháng 6        Tháng 7        Tháng 8        Tháng 9   \n",
              "4  4124948.11674  1909533.19813  2783687.24266  3101721.04553  1304650.72199   \n",
              "\n",
              "   ... Unnamed: 42 Unnamed: 43 Unnamed: 44 Unnamed: 45 Unnamed: 46  \\\n",
              "0  ...     Tháng 3     Tháng 4     Tháng 5     Tháng 6     Tháng 7   \n",
              "1  ...     2093179     1166098     3435073     1885718     1455468   \n",
              "2  ...         NaN         NaN         NaN         NaN         NaN   \n",
              "3  ...     Tháng 3     Tháng 4     Tháng 5     Tháng 6     Tháng 7   \n",
              "4  ...     1447552   764648.68    844274.7      811098   732771.86   \n",
              "\n",
              "  Unnamed: 47 Unnamed: 48 Unnamed: 49  2023 Total          Lượng.1  \n",
              "0     Tháng 8     Tháng 9    Tháng 10         NaN              NaN  \n",
              "1     3140965     3056015     3320751    21298316        130962674  \n",
              "2         NaN         NaN         NaN  2023 Total          Giá trị  \n",
              "3     Tháng 8     Tháng 9    Tháng 10         NaN              NaN  \n",
              "4     1915573      696992      532818  8831466.38  72548474.231821  \n",
              "\n",
              "[5 rows x 52 columns]"
            ],
            "text/html": [
              "\n",
              "  <div id=\"df-9af95dbf-bcd5-41de-9b96-36038b0c48e7\" class=\"colab-df-container\">\n",
              "    <div>\n",
              "<style scoped>\n",
              "    .dataframe tbody tr th:only-of-type {\n",
              "        vertical-align: middle;\n",
              "    }\n",
              "\n",
              "    .dataframe tbody tr th {\n",
              "        vertical-align: top;\n",
              "    }\n",
              "\n",
              "    .dataframe thead th {\n",
              "        text-align: right;\n",
              "    }\n",
              "</style>\n",
              "<table border=\"1\" class=\"dataframe\">\n",
              "  <thead>\n",
              "    <tr style=\"text-align: right;\">\n",
              "      <th></th>\n",
              "      <th>Lượng</th>\n",
              "      <th>2020</th>\n",
              "      <th>Unnamed: 2</th>\n",
              "      <th>Unnamed: 3</th>\n",
              "      <th>Unnamed: 4</th>\n",
              "      <th>Unnamed: 5</th>\n",
              "      <th>Unnamed: 6</th>\n",
              "      <th>Unnamed: 7</th>\n",
              "      <th>Unnamed: 8</th>\n",
              "      <th>Unnamed: 9</th>\n",
              "      <th>...</th>\n",
              "      <th>Unnamed: 42</th>\n",
              "      <th>Unnamed: 43</th>\n",
              "      <th>Unnamed: 44</th>\n",
              "      <th>Unnamed: 45</th>\n",
              "      <th>Unnamed: 46</th>\n",
              "      <th>Unnamed: 47</th>\n",
              "      <th>Unnamed: 48</th>\n",
              "      <th>Unnamed: 49</th>\n",
              "      <th>2023 Total</th>\n",
              "      <th>Lượng.1</th>\n",
              "    </tr>\n",
              "  </thead>\n",
              "  <tbody>\n",
              "    <tr>\n",
              "      <th>0</th>\n",
              "      <td>NaN</td>\n",
              "      <td>Tháng 1</td>\n",
              "      <td>Tháng 2</td>\n",
              "      <td>Tháng 3</td>\n",
              "      <td>Tháng 4</td>\n",
              "      <td>Tháng 5</td>\n",
              "      <td>Tháng 6</td>\n",
              "      <td>Tháng 7</td>\n",
              "      <td>Tháng 8</td>\n",
              "      <td>Tháng 9</td>\n",
              "      <td>...</td>\n",
              "      <td>Tháng 3</td>\n",
              "      <td>Tháng 4</td>\n",
              "      <td>Tháng 5</td>\n",
              "      <td>Tháng 6</td>\n",
              "      <td>Tháng 7</td>\n",
              "      <td>Tháng 8</td>\n",
              "      <td>Tháng 9</td>\n",
              "      <td>Tháng 10</td>\n",
              "      <td>NaN</td>\n",
              "      <td>NaN</td>\n",
              "    </tr>\n",
              "    <tr>\n",
              "      <th>1</th>\n",
              "      <td>B1</td>\n",
              "      <td>1939043</td>\n",
              "      <td>1013651</td>\n",
              "      <td>2451126</td>\n",
              "      <td>2989985</td>\n",
              "      <td>6049315</td>\n",
              "      <td>2418846</td>\n",
              "      <td>6759353</td>\n",
              "      <td>8837352</td>\n",
              "      <td>2842175</td>\n",
              "      <td>...</td>\n",
              "      <td>2093179</td>\n",
              "      <td>1166098</td>\n",
              "      <td>3435073</td>\n",
              "      <td>1885718</td>\n",
              "      <td>1455468</td>\n",
              "      <td>3140965</td>\n",
              "      <td>3056015</td>\n",
              "      <td>3320751</td>\n",
              "      <td>21298316</td>\n",
              "      <td>130962674</td>\n",
              "    </tr>\n",
              "    <tr>\n",
              "      <th>2</th>\n",
              "      <td>Giá trị</td>\n",
              "      <td>2020</td>\n",
              "      <td>NaN</td>\n",
              "      <td>NaN</td>\n",
              "      <td>NaN</td>\n",
              "      <td>NaN</td>\n",
              "      <td>NaN</td>\n",
              "      <td>NaN</td>\n",
              "      <td>NaN</td>\n",
              "      <td>NaN</td>\n",
              "      <td>...</td>\n",
              "      <td>NaN</td>\n",
              "      <td>NaN</td>\n",
              "      <td>NaN</td>\n",
              "      <td>NaN</td>\n",
              "      <td>NaN</td>\n",
              "      <td>NaN</td>\n",
              "      <td>NaN</td>\n",
              "      <td>NaN</td>\n",
              "      <td>2023 Total</td>\n",
              "      <td>Giá trị</td>\n",
              "    </tr>\n",
              "    <tr>\n",
              "      <th>3</th>\n",
              "      <td>NaN</td>\n",
              "      <td>Tháng 1</td>\n",
              "      <td>Tháng 2</td>\n",
              "      <td>Tháng 3</td>\n",
              "      <td>Tháng 4</td>\n",
              "      <td>Tháng 5</td>\n",
              "      <td>Tháng 6</td>\n",
              "      <td>Tháng 7</td>\n",
              "      <td>Tháng 8</td>\n",
              "      <td>Tháng 9</td>\n",
              "      <td>...</td>\n",
              "      <td>Tháng 3</td>\n",
              "      <td>Tháng 4</td>\n",
              "      <td>Tháng 5</td>\n",
              "      <td>Tháng 6</td>\n",
              "      <td>Tháng 7</td>\n",
              "      <td>Tháng 8</td>\n",
              "      <td>Tháng 9</td>\n",
              "      <td>Tháng 10</td>\n",
              "      <td>NaN</td>\n",
              "      <td>NaN</td>\n",
              "    </tr>\n",
              "    <tr>\n",
              "      <th>4</th>\n",
              "      <td>B1</td>\n",
              "      <td>1498821.429454</td>\n",
              "      <td>647526.930521</td>\n",
              "      <td>1403030.006489</td>\n",
              "      <td>2189582.624893</td>\n",
              "      <td>4124948.11674</td>\n",
              "      <td>1909533.19813</td>\n",
              "      <td>2783687.24266</td>\n",
              "      <td>3101721.04553</td>\n",
              "      <td>1304650.72199</td>\n",
              "      <td>...</td>\n",
              "      <td>1447552</td>\n",
              "      <td>764648.68</td>\n",
              "      <td>844274.7</td>\n",
              "      <td>811098</td>\n",
              "      <td>732771.86</td>\n",
              "      <td>1915573</td>\n",
              "      <td>696992</td>\n",
              "      <td>532818</td>\n",
              "      <td>8831466.38</td>\n",
              "      <td>72548474.231821</td>\n",
              "    </tr>\n",
              "  </tbody>\n",
              "</table>\n",
              "<p>5 rows × 52 columns</p>\n",
              "</div>\n",
              "    <div class=\"colab-df-buttons\">\n",
              "\n",
              "  <div class=\"colab-df-container\">\n",
              "    <button class=\"colab-df-convert\" onclick=\"convertToInteractive('df-9af95dbf-bcd5-41de-9b96-36038b0c48e7')\"\n",
              "            title=\"Convert this dataframe to an interactive table.\"\n",
              "            style=\"display:none;\">\n",
              "\n",
              "  <svg xmlns=\"http://www.w3.org/2000/svg\" height=\"24px\" viewBox=\"0 -960 960 960\">\n",
              "    <path d=\"M120-120v-720h720v720H120Zm60-500h600v-160H180v160Zm220 220h160v-160H400v160Zm0 220h160v-160H400v160ZM180-400h160v-160H180v160Zm440 0h160v-160H620v160ZM180-180h160v-160H180v160Zm440 0h160v-160H620v160Z\"/>\n",
              "  </svg>\n",
              "    </button>\n",
              "\n",
              "  <style>\n",
              "    .colab-df-container {\n",
              "      display:flex;\n",
              "      gap: 12px;\n",
              "    }\n",
              "\n",
              "    .colab-df-convert {\n",
              "      background-color: #E8F0FE;\n",
              "      border: none;\n",
              "      border-radius: 50%;\n",
              "      cursor: pointer;\n",
              "      display: none;\n",
              "      fill: #1967D2;\n",
              "      height: 32px;\n",
              "      padding: 0 0 0 0;\n",
              "      width: 32px;\n",
              "    }\n",
              "\n",
              "    .colab-df-convert:hover {\n",
              "      background-color: #E2EBFA;\n",
              "      box-shadow: 0px 1px 2px rgba(60, 64, 67, 0.3), 0px 1px 3px 1px rgba(60, 64, 67, 0.15);\n",
              "      fill: #174EA6;\n",
              "    }\n",
              "\n",
              "    .colab-df-buttons div {\n",
              "      margin-bottom: 4px;\n",
              "    }\n",
              "\n",
              "    [theme=dark] .colab-df-convert {\n",
              "      background-color: #3B4455;\n",
              "      fill: #D2E3FC;\n",
              "    }\n",
              "\n",
              "    [theme=dark] .colab-df-convert:hover {\n",
              "      background-color: #434B5C;\n",
              "      box-shadow: 0px 1px 3px 1px rgba(0, 0, 0, 0.15);\n",
              "      filter: drop-shadow(0px 1px 2px rgba(0, 0, 0, 0.3));\n",
              "      fill: #FFFFFF;\n",
              "    }\n",
              "  </style>\n",
              "\n",
              "    <script>\n",
              "      const buttonEl =\n",
              "        document.querySelector('#df-9af95dbf-bcd5-41de-9b96-36038b0c48e7 button.colab-df-convert');\n",
              "      buttonEl.style.display =\n",
              "        google.colab.kernel.accessAllowed ? 'block' : 'none';\n",
              "\n",
              "      async function convertToInteractive(key) {\n",
              "        const element = document.querySelector('#df-9af95dbf-bcd5-41de-9b96-36038b0c48e7');\n",
              "        const dataTable =\n",
              "          await google.colab.kernel.invokeFunction('convertToInteractive',\n",
              "                                                    [key], {});\n",
              "        if (!dataTable) return;\n",
              "\n",
              "        const docLinkHtml = 'Like what you see? Visit the ' +\n",
              "          '<a target=\"_blank\" href=https://colab.research.google.com/notebooks/data_table.ipynb>data table notebook</a>'\n",
              "          + ' to learn more about interactive tables.';\n",
              "        element.innerHTML = '';\n",
              "        dataTable['output_type'] = 'display_data';\n",
              "        await google.colab.output.renderOutput(dataTable, element);\n",
              "        const docLink = document.createElement('div');\n",
              "        docLink.innerHTML = docLinkHtml;\n",
              "        element.appendChild(docLink);\n",
              "      }\n",
              "    </script>\n",
              "  </div>\n",
              "\n",
              "\n",
              "<div id=\"df-09b08005-b2c4-4cb5-a367-97ef3efaf30e\">\n",
              "  <button class=\"colab-df-quickchart\" onclick=\"quickchart('df-09b08005-b2c4-4cb5-a367-97ef3efaf30e')\"\n",
              "            title=\"Suggest charts\"\n",
              "            style=\"display:none;\">\n",
              "\n",
              "<svg xmlns=\"http://www.w3.org/2000/svg\" height=\"24px\"viewBox=\"0 0 24 24\"\n",
              "     width=\"24px\">\n",
              "    <g>\n",
              "        <path d=\"M19 3H5c-1.1 0-2 .9-2 2v14c0 1.1.9 2 2 2h14c1.1 0 2-.9 2-2V5c0-1.1-.9-2-2-2zM9 17H7v-7h2v7zm4 0h-2V7h2v10zm4 0h-2v-4h2v4z\"/>\n",
              "    </g>\n",
              "</svg>\n",
              "  </button>\n",
              "\n",
              "<style>\n",
              "  .colab-df-quickchart {\n",
              "      --bg-color: #E8F0FE;\n",
              "      --fill-color: #1967D2;\n",
              "      --hover-bg-color: #E2EBFA;\n",
              "      --hover-fill-color: #174EA6;\n",
              "      --disabled-fill-color: #AAA;\n",
              "      --disabled-bg-color: #DDD;\n",
              "  }\n",
              "\n",
              "  [theme=dark] .colab-df-quickchart {\n",
              "      --bg-color: #3B4455;\n",
              "      --fill-color: #D2E3FC;\n",
              "      --hover-bg-color: #434B5C;\n",
              "      --hover-fill-color: #FFFFFF;\n",
              "      --disabled-bg-color: #3B4455;\n",
              "      --disabled-fill-color: #666;\n",
              "  }\n",
              "\n",
              "  .colab-df-quickchart {\n",
              "    background-color: var(--bg-color);\n",
              "    border: none;\n",
              "    border-radius: 50%;\n",
              "    cursor: pointer;\n",
              "    display: none;\n",
              "    fill: var(--fill-color);\n",
              "    height: 32px;\n",
              "    padding: 0;\n",
              "    width: 32px;\n",
              "  }\n",
              "\n",
              "  .colab-df-quickchart:hover {\n",
              "    background-color: var(--hover-bg-color);\n",
              "    box-shadow: 0 1px 2px rgba(60, 64, 67, 0.3), 0 1px 3px 1px rgba(60, 64, 67, 0.15);\n",
              "    fill: var(--button-hover-fill-color);\n",
              "  }\n",
              "\n",
              "  .colab-df-quickchart-complete:disabled,\n",
              "  .colab-df-quickchart-complete:disabled:hover {\n",
              "    background-color: var(--disabled-bg-color);\n",
              "    fill: var(--disabled-fill-color);\n",
              "    box-shadow: none;\n",
              "  }\n",
              "\n",
              "  .colab-df-spinner {\n",
              "    border: 2px solid var(--fill-color);\n",
              "    border-color: transparent;\n",
              "    border-bottom-color: var(--fill-color);\n",
              "    animation:\n",
              "      spin 1s steps(1) infinite;\n",
              "  }\n",
              "\n",
              "  @keyframes spin {\n",
              "    0% {\n",
              "      border-color: transparent;\n",
              "      border-bottom-color: var(--fill-color);\n",
              "      border-left-color: var(--fill-color);\n",
              "    }\n",
              "    20% {\n",
              "      border-color: transparent;\n",
              "      border-left-color: var(--fill-color);\n",
              "      border-top-color: var(--fill-color);\n",
              "    }\n",
              "    30% {\n",
              "      border-color: transparent;\n",
              "      border-left-color: var(--fill-color);\n",
              "      border-top-color: var(--fill-color);\n",
              "      border-right-color: var(--fill-color);\n",
              "    }\n",
              "    40% {\n",
              "      border-color: transparent;\n",
              "      border-right-color: var(--fill-color);\n",
              "      border-top-color: var(--fill-color);\n",
              "    }\n",
              "    60% {\n",
              "      border-color: transparent;\n",
              "      border-right-color: var(--fill-color);\n",
              "    }\n",
              "    80% {\n",
              "      border-color: transparent;\n",
              "      border-right-color: var(--fill-color);\n",
              "      border-bottom-color: var(--fill-color);\n",
              "    }\n",
              "    90% {\n",
              "      border-color: transparent;\n",
              "      border-bottom-color: var(--fill-color);\n",
              "    }\n",
              "  }\n",
              "</style>\n",
              "\n",
              "  <script>\n",
              "    async function quickchart(key) {\n",
              "      const quickchartButtonEl =\n",
              "        document.querySelector('#' + key + ' button');\n",
              "      quickchartButtonEl.disabled = true;  // To prevent multiple clicks.\n",
              "      quickchartButtonEl.classList.add('colab-df-spinner');\n",
              "      try {\n",
              "        const charts = await google.colab.kernel.invokeFunction(\n",
              "            'suggestCharts', [key], {});\n",
              "      } catch (error) {\n",
              "        console.error('Error during call to suggestCharts:', error);\n",
              "      }\n",
              "      quickchartButtonEl.classList.remove('colab-df-spinner');\n",
              "      quickchartButtonEl.classList.add('colab-df-quickchart-complete');\n",
              "    }\n",
              "    (() => {\n",
              "      let quickchartButtonEl =\n",
              "        document.querySelector('#df-09b08005-b2c4-4cb5-a367-97ef3efaf30e button');\n",
              "      quickchartButtonEl.style.display =\n",
              "        google.colab.kernel.accessAllowed ? 'block' : 'none';\n",
              "    })();\n",
              "  </script>\n",
              "</div>\n",
              "\n",
              "  <div id=\"id_b14318e6-4bbf-4fba-ab8c-43b280ad3a00\">\n",
              "    <style>\n",
              "      .colab-df-generate {\n",
              "        background-color: #E8F0FE;\n",
              "        border: none;\n",
              "        border-radius: 50%;\n",
              "        cursor: pointer;\n",
              "        display: none;\n",
              "        fill: #1967D2;\n",
              "        height: 32px;\n",
              "        padding: 0 0 0 0;\n",
              "        width: 32px;\n",
              "      }\n",
              "\n",
              "      .colab-df-generate:hover {\n",
              "        background-color: #E2EBFA;\n",
              "        box-shadow: 0px 1px 2px rgba(60, 64, 67, 0.3), 0px 1px 3px 1px rgba(60, 64, 67, 0.15);\n",
              "        fill: #174EA6;\n",
              "      }\n",
              "\n",
              "      [theme=dark] .colab-df-generate {\n",
              "        background-color: #3B4455;\n",
              "        fill: #D2E3FC;\n",
              "      }\n",
              "\n",
              "      [theme=dark] .colab-df-generate:hover {\n",
              "        background-color: #434B5C;\n",
              "        box-shadow: 0px 1px 3px 1px rgba(0, 0, 0, 0.15);\n",
              "        filter: drop-shadow(0px 1px 2px rgba(0, 0, 0, 0.3));\n",
              "        fill: #FFFFFF;\n",
              "      }\n",
              "    </style>\n",
              "    <button class=\"colab-df-generate\" onclick=\"generateWithVariable('df_B1_competitors')\"\n",
              "            title=\"Generate code using this dataframe.\"\n",
              "            style=\"display:none;\">\n",
              "\n",
              "  <svg xmlns=\"http://www.w3.org/2000/svg\" height=\"24px\"viewBox=\"0 0 24 24\"\n",
              "       width=\"24px\">\n",
              "    <path d=\"M7,19H8.4L18.45,9,17,7.55,7,17.6ZM5,21V16.75L18.45,3.32a2,2,0,0,1,2.83,0l1.4,1.43a1.91,1.91,0,0,1,.58,1.4,1.91,1.91,0,0,1-.58,1.4L9.25,21ZM18.45,9,17,7.55Zm-12,3A5.31,5.31,0,0,0,4.9,8.1,5.31,5.31,0,0,0,1,6.5,5.31,5.31,0,0,0,4.9,4.9,5.31,5.31,0,0,0,6.5,1,5.31,5.31,0,0,0,8.1,4.9,5.31,5.31,0,0,0,12,6.5,5.46,5.46,0,0,0,6.5,12Z\"/>\n",
              "  </svg>\n",
              "    </button>\n",
              "    <script>\n",
              "      (() => {\n",
              "      const buttonEl =\n",
              "        document.querySelector('#id_b14318e6-4bbf-4fba-ab8c-43b280ad3a00 button.colab-df-generate');\n",
              "      buttonEl.style.display =\n",
              "        google.colab.kernel.accessAllowed ? 'block' : 'none';\n",
              "\n",
              "      buttonEl.onclick = () => {\n",
              "        google.colab.notebook.generateWithVariable('df_B1_competitors');\n",
              "      }\n",
              "      })();\n",
              "    </script>\n",
              "  </div>\n",
              "\n",
              "    </div>\n",
              "  </div>\n"
            ]
          },
          "metadata": {},
          "execution_count": 5
        }
      ]
    },
    {
      "cell_type": "markdown",
      "source": [
        "#### clean data"
      ],
      "metadata": {
        "id": "aZ3yBu3hrY-H"
      }
    },
    {
      "cell_type": "code",
      "source": [
        "## Lấy Lượng của từng quý trong bảng B1 plan năm 2021 đến 2023\n",
        "index_of_luong = [1,3,5,7,9,11,13,15,17,19,21,23]\n",
        "## Lấy giá trị của từng quý trong bảng B1 plan năm 2021 đến 2023\n",
        "index_of_gt = [2,4,6,8,10,12,14,16,18,20,22,24]\n",
        "\n",
        "data_luong = df_B1.iloc[0][index_of_luong].values\n",
        "data_gt = df_B1.iloc[0][index_of_gt].values"
      ],
      "metadata": {
        "id": "cbnQatY9q5yc"
      },
      "execution_count": 6,
      "outputs": []
    },
    {
      "cell_type": "code",
      "source": [
        "data_luong.shape"
      ],
      "metadata": {
        "colab": {
          "base_uri": "https://localhost:8080/"
        },
        "id": "8Bq0EnUOteS7",
        "outputId": "500c61a4-5137-42ca-db45-c9919610a173"
      },
      "execution_count": 7,
      "outputs": [
        {
          "output_type": "execute_result",
          "data": {
            "text/plain": [
              "(12,)"
            ]
          },
          "metadata": {},
          "execution_count": 7
        }
      ]
    },
    {
      "cell_type": "code",
      "source": [
        "data_gt.shape"
      ],
      "metadata": {
        "colab": {
          "base_uri": "https://localhost:8080/"
        },
        "id": "KKpBJX3dt139",
        "outputId": "b48b561d-c6c5-4e54-a870-6dd4249ed47e"
      },
      "execution_count": 8,
      "outputs": [
        {
          "output_type": "execute_result",
          "data": {
            "text/plain": [
              "(12,)"
            ]
          },
          "metadata": {},
          "execution_count": 8
        }
      ]
    },
    {
      "cell_type": "code",
      "source": [
        "def gia_tri_tung_quy(input_theo_thang):\n",
        "  reshaped_array = input_theo_thang.reshape(-1, 3)\n",
        "\n",
        "  # Sum along the second axis (axis=1) to get the sum of each row\n",
        "  sums = reshaped_array.sum(axis=1)\n",
        "  return sums"
      ],
      "metadata": {
        "id": "cAbZH2GPyqnZ"
      },
      "execution_count": 9,
      "outputs": []
    },
    {
      "cell_type": "code",
      "source": [
        "## Lấy lượng của từng quý trong bảng B1_competitors từ 2020\n",
        "data_2020 = df_B1_competitors.loc[1][1:13].values\n",
        "## Lấy lượng của từng quý trong bảng B1_competitors từ 2021\n",
        "data_2021= df_B1_competitors.loc[1][14:26].values\n",
        "## Lấy lượng của từng quý trong bảng B1_competitors từ 2022\n",
        "data_2022=df_B1_competitors.loc[1][27:39].values\n",
        "## Lấy lượng của từng quý trong bảng B1_competitors từ 2023\n",
        "data_2023= df_B1_competitors.loc[1][40:50].values\n",
        "## Năm 2023 do không có giá trị tháng 11 và 12 nên coi như = 0\n",
        "data_2023 = np.append(data_2023, [0, 0])\n",
        "\n",
        "\n",
        "## Lấy giá trị của từng quý trong bảng B1_competitors từ 2020\n",
        "data_2020_gt = df_B1_competitors.loc[4][1:13].values\n",
        "## Lấy giá trị của từng quý trong bảng B1_competitors từ 2021\n",
        "data_2021_gt = df_B1_competitors.loc[4][14:26].values\n",
        "## Lấy giá trị của từng quý trong bảng B1_competitors từ 2022\n",
        "data_2022_gt = df_B1_competitors.loc[4][27:39].values\n",
        "## Lấy giá trị của từng quý trong bảng B1_competitors từ 2023\n",
        "data_2023_gt = df_B1_competitors.loc[4][40:50].values\n",
        "## Năm 2023 do không có giá trị tháng 11 và 12 nên coi như = 0\n",
        "data_2023_gt = np.append(data_2023_gt, [0, 0])\n",
        "\n",
        "## Hậu xử lí : convert thang to quy\n",
        "data_2020 = gia_tri_tung_quy(data_2020)\n",
        "data_2021 = gia_tri_tung_quy(data_2021)\n",
        "data_2022 = gia_tri_tung_quy(data_2022)\n",
        "data_2023 = gia_tri_tung_quy(data_2023)\n",
        "\n",
        "data_2020_gt = gia_tri_tung_quy(data_2020_gt)\n",
        "data_2021_gt = gia_tri_tung_quy(data_2021_gt)\n",
        "data_2022_gt = gia_tri_tung_quy(data_2022_gt)\n",
        "data_2023_gt = gia_tri_tung_quy(data_2023_gt)\n",
        "\n",
        "## Lấy thông tin từ 2021 đến 2023\n",
        "data_2021_to_2023_luong = np.concatenate([data_2021, data_2022, data_2023])\n",
        "data_2021_to_2023_gt= np.concatenate([data_2021_gt, data_2022_gt, data_2023_gt])"
      ],
      "metadata": {
        "id": "VxaRyQVJt5Wr"
      },
      "execution_count": 10,
      "outputs": []
    },
    {
      "cell_type": "code",
      "source": [
        "data_2021_to_2023_gt.shape"
      ],
      "metadata": {
        "colab": {
          "base_uri": "https://localhost:8080/"
        },
        "id": "r0363ihtwlpx",
        "outputId": "66b8f39d-a458-4356-bb40-543d7a2c7a61"
      },
      "execution_count": 11,
      "outputs": [
        {
          "output_type": "execute_result",
          "data": {
            "text/plain": [
              "(12,)"
            ]
          },
          "metadata": {},
          "execution_count": 11
        }
      ]
    },
    {
      "cell_type": "markdown",
      "source": [
        "#### linear regresstion - chi su dung du lieu bang B1-plan"
      ],
      "metadata": {
        "id": "5eCY6E9Qq6Dj"
      }
    },
    {
      "cell_type": "markdown",
      "source": [
        "##### simple method : lấy 4 giá trị ngẫu nhiên bất kì từ bảng B1 plan liền nhau, sử dụng dữ liệu lịch sử từ 3 quý trước để dự đoán dữ liệu quý tiếp theo sử dụng mô hình linear regression"
      ],
      "metadata": {
        "id": "e7SbwOQr0D1K"
      }
    },
    {
      "cell_type": "code",
      "source": [
        "window_size = 4\n",
        "stride = 1\n",
        "\n",
        "# Create sliding windows\n",
        "sliding_windows = [data_luong[i:i+window_size] for i in range(0, len(data_luong)-window_size+1, stride)]\n",
        "result_array = np.vstack(sliding_windows)\n",
        "# Display the sliding windows\n",
        "print(result_array)"
      ],
      "metadata": {
        "colab": {
          "base_uri": "https://localhost:8080/"
        },
        "id": "1S28eKXL0Ss0",
        "outputId": "6f41c440-108f-435f-a72d-b059981fdc94"
      },
      "execution_count": 26,
      "outputs": [
        {
          "output_type": "stream",
          "name": "stdout",
          "text": [
            "[[735 330 560 750]\n",
            " [330 560 750 730]\n",
            " [560 750 730 450]\n",
            " [750 730 450 600]\n",
            " [730 450 600 450]\n",
            " [450 600 450 555]\n",
            " [600 450 555 600]\n",
            " [450 555 600 400]\n",
            " [555 600 400 800]]\n"
          ]
        }
      ]
    },
    {
      "cell_type": "code",
      "source": [
        "## input of model\n",
        "input_model = result_array[:,:3]\n",
        "## output of model\n",
        "output_model = result_array[:,:3:4]"
      ],
      "metadata": {
        "id": "yESIE8yH0w6v"
      },
      "execution_count": 27,
      "outputs": []
    },
    {
      "cell_type": "code",
      "source": [
        "input_model.shape"
      ],
      "metadata": {
        "colab": {
          "base_uri": "https://localhost:8080/"
        },
        "id": "5ke9NxZk18ju",
        "outputId": "b8a1563f-0b7b-40f0-e3a4-d51c86c71ac9"
      },
      "execution_count": 28,
      "outputs": [
        {
          "output_type": "execute_result",
          "data": {
            "text/plain": [
              "(9, 3)"
            ]
          },
          "metadata": {},
          "execution_count": 28
        }
      ]
    },
    {
      "cell_type": "code",
      "source": [
        "output_model.shape"
      ],
      "metadata": {
        "colab": {
          "base_uri": "https://localhost:8080/"
        },
        "id": "tMnF3PWe1-5p",
        "outputId": "1a566cb2-1ade-444f-c75f-3e07accfaa0b"
      },
      "execution_count": 29,
      "outputs": [
        {
          "output_type": "execute_result",
          "data": {
            "text/plain": [
              "(9, 1)"
            ]
          },
          "metadata": {},
          "execution_count": 29
        }
      ]
    },
    {
      "cell_type": "code",
      "source": [
        "import numpy as np\n",
        "from sklearn.model_selection import train_test_split\n",
        "from sklearn.linear_model import LinearRegression\n",
        "from sklearn.metrics import mean_squared_error\n",
        "import matplotlib.pyplot as plt\n",
        "\n",
        "# Assuming you have input and output data\n",
        "# Replace X_input and y_output with your actual data\n",
        "X_input = input_model  # Replace with your input data\n",
        "y_output = output_model  # Replace with your output data\n",
        "\n",
        "# Split the data into training and testing sets\n",
        "X_train, X_test, y_train, y_test = train_test_split(X_input, y_output, test_size=0.2, random_state=2)\n",
        "\n",
        "# Create a Linear Regression model\n",
        "model = LinearRegression()\n",
        "\n",
        "# Train the model on the training set\n",
        "model.fit(X_train, y_train)\n",
        "\n",
        "# Make predictions on the test set\n",
        "y_pred = model.predict(X_test)\n",
        "\n",
        "# Evaluate the model\n",
        "mse = mean_squared_error(y_test, y_pred)\n",
        "print(f'Mean Squared Error: {mse}')\n",
        "\n",
        "# Visualize the predictions (for demonstration purposes, adjust based on your data)\n",
        "plt.scatter(y_test, y_pred)\n",
        "plt.xlabel('Actual Output')\n",
        "plt.ylabel('Predicted Output')\n",
        "plt.title('Linear Regression Model Performance')\n",
        "plt.show()"
      ],
      "metadata": {
        "id": "wcxRT1lW1a9W",
        "colab": {
          "base_uri": "https://localhost:8080/",
          "height": 489
        },
        "outputId": "284c2a43-a953-4fb3-f1f1-8d4a20ae0625"
      },
      "execution_count": 32,
      "outputs": [
        {
          "output_type": "stream",
          "name": "stdout",
          "text": [
            "Mean Squared Error: 2.5849394142282115e-26\n"
          ]
        },
        {
          "output_type": "display_data",
          "data": {
            "text/plain": [
              "<Figure size 640x480 with 1 Axes>"
            ],
            "image/png": "[encoded data removed]"
          },
          "metadata": {}
        }
      ]
    },
    {
      "cell_type": "code",
      "source": [
        "model"
      ],
      "metadata": {
        "colab": {
          "base_uri": "https://localhost:8080/",
          "height": 75
        },
        "id": "J1ZbZ_qR3X0B",
        "outputId": "ae983a7b-0d0d-425b-ef35-5e9ede5186fd"
      },
      "execution_count": 34,
      "outputs": [
        {
          "output_type": "execute_result",
          "data": {
            "text/plain": [
              "LinearRegression()"
            ],
            "text/html": [
              "<style>#sk-container-id-4 {color: black;background-color: white;}#sk-container-id-4 pre{padding: 0;}#sk-container-id-4 div.sk-toggleable {background-color: white;}#sk-container-id-4 label.sk-toggleable__label {cursor: pointer;display: block;width: 100%;margin-bottom: 0;padding: 0.3em;box-sizing: border-box;text-align: center;}#sk-container-id-4 label.sk-toggleable__label-arrow:before {content: \"▸\";float: left;margin-right: 0.25em;color: #696969;}#sk-container-id-4 label.sk-toggleable__label-arrow:hover:before {color: black;}#sk-container-id-4 div.sk-estimator:hover label.sk-toggleable__label-arrow:before {color: black;}#sk-container-id-4 div.sk-toggleable__content {max-height: 0;max-width: 0;overflow: hidden;text-align: left;background-color: #f0f8ff;}#sk-container-id-4 div.sk-toggleable__content pre {margin: 0.2em;color: black;border-radius: 0.25em;background-color: #f0f8ff;}#sk-container-id-4 input.sk-toggleable__control:checked~div.sk-toggleable__content {max-height: 200px;max-width: 100%;overflow: auto;}#sk-container-id-4 input.sk-toggleable__control:checked~label.sk-toggleable__label-arrow:before {content: \"▾\";}#sk-container-id-4 div.sk-estimator input.sk-toggleable__control:checked~label.sk-toggleable__label {background-color: #d4ebff;}#sk-container-id-4 div.sk-label input.sk-toggleable__control:checked~label.sk-toggleable__label {background-color: #d4ebff;}#sk-container-id-4 input.sk-hidden--visually {border: 0;clip: rect(1px 1px 1px 1px);clip: rect(1px, 1px, 1px, 1px);height: 1px;margin: -1px;overflow: hidden;padding: 0;position: absolute;width: 1px;}#sk-container-id-4 div.sk-estimator {font-family: monospace;background-color: #f0f8ff;border: 1px dotted black;border-radius: 0.25em;box-sizing: border-box;margin-bottom: 0.5em;}#sk-container-id-4 div.sk-estimator:hover {background-color: #d4ebff;}#sk-container-id-4 div.sk-parallel-item::after {content: \"\";width: 100%;border-bottom: 1px solid gray;flex-grow: 1;}#sk-container-id-4 div.sk-label:hover label.sk-toggleable__label {background-color: #d4ebff;}#sk-container-id-4 div.sk-serial::before {content: \"\";position: absolute;border-left: 1px solid gray;box-sizing: border-box;top: 0;bottom: 0;left: 50%;z-index: 0;}#sk-container-id-4 div.sk-serial {display: flex;flex-direction: column;align-items: center;background-color: white;padding-right: 0.2em;padding-left: 0.2em;position: relative;}#sk-container-id-4 div.sk-item {position: relative;z-index: 1;}#sk-container-id-4 div.sk-parallel {display: flex;align-items: stretch;justify-content: center;background-color: white;position: relative;}#sk-container-id-4 div.sk-item::before, #sk-container-id-4 div.sk-parallel-item::before {content: \"\";position: absolute;border-left: 1px solid gray;box-sizing: border-box;top: 0;bottom: 0;left: 50%;z-index: -1;}#sk-container-id-4 div.sk-parallel-item {display: flex;flex-direction: column;z-index: 1;position: relative;background-color: white;}#sk-container-id-4 div.sk-parallel-item:first-child::after {align-self: flex-end;width: 50%;}#sk-container-id-4 div.sk-parallel-item:last-child::after {align-self: flex-start;width: 50%;}#sk-container-id-4 div.sk-parallel-item:only-child::after {width: 0;}#sk-container-id-4 div.sk-dashed-wrapped {border: 1px dashed gray;margin: 0 0.4em 0.5em 0.4em;box-sizing: border-box;padding-bottom: 0.4em;background-color: white;}#sk-container-id-4 div.sk-label label {font-family: monospace;font-weight: bold;display: inline-block;line-height: 1.2em;}#sk-container-id-4 div.sk-label-container {text-align: center;}#sk-container-id-4 div.sk-container {/* jupyter's `normalize.less` sets `[hidden] { display: none; }` but bootstrap.min.css set `[hidden] { display: none !important; }` so we also need the `!important` here to be able to override the default hidden behavior on the sphinx rendered scikit-learn.org. See: https://github.com/scikit-learn/scikit-learn/issues/21755 */display: inline-block !important;position: relative;}#sk-container-id-4 div.sk-text-repr-fallback {display: none;}</style><div id=\"sk-container-id-4\" class=\"sk-top-container\"><div class=\"sk-text-repr-fallback\"><pre>LinearRegression()</pre><b>In a Jupyter environment, please rerun this cell to show the HTML representation or trust the notebook. <br />On GitHub, the HTML representation is unable to render, please try loading this page with nbviewer.org.</b></div><div class=\"sk-container\" hidden><div class=\"sk-item\"><div class=\"sk-estimator sk-toggleable\"><input class=\"sk-toggleable__control sk-hidden--visually\" id=\"sk-estimator-id-4\" type=\"checkbox\" checked><label for=\"sk-estimator-id-4\" class=\"sk-toggleable__label sk-toggleable__label-arrow\">LinearRegression</label><div class=\"sk-toggleable__content\"><pre>LinearRegression()</pre></div></div></div></div></div>"
            ]
          },
          "metadata": {},
          "execution_count": 34
        }
      ]
    },
    {
      "cell_type": "code",
      "source": [
        "## Dự đoán doanh thu năm 2024 cho sản phẩm B1\n",
        "### Quý 1 : input : doanh thu quý 2,3,4 năm 2023\n",
        "input_model = np.array([[600,400,800]])\n",
        "output_model_quy_1_2024 = model.predict(input_model)"
      ],
      "metadata": {
        "id": "uf-wjMNN3a_o"
      },
      "execution_count": 45,
      "outputs": []
    },
    {
      "cell_type": "code",
      "source": [
        "## doanh thu du doan quy 1 2024 laf 600\n",
        "## quy 2: input doanh thu quy 3,4 nam 2023 va quy 1 2024\n",
        "\n",
        "input_model = np.array([[400,800,float(output_model_quy_1_2024)]])\n",
        "output_model_quy_2_2024 = model.predict(input_model)"
      ],
      "metadata": {
        "id": "Wjox3Jmt4OKp"
      },
      "execution_count": 46,
      "outputs": []
    },
    {
      "cell_type": "code",
      "source": [
        "## quy 3\n",
        "input_model = np.array([[800,float(output_model_quy_1_2024), float(output_model_quy_2_2024)]])\n",
        "output_model_quy_3_2024 = model.predict(input_model)\n",
        "## quy 4\n",
        "input_model = np.array([[float(output_model_quy_1_2024),float(output_model_quy_2_2024),float(output_model_quy_3_2024)]])\n",
        "output_model_quy_4_2024 = model.predict(input_model)"
      ],
      "metadata": {
        "id": "8edjrHGT2eLR"
      },
      "execution_count": 47,
      "outputs": []
    },
    {
      "cell_type": "code",
      "source": [
        "print(\"quy_1: \", output_model_quy_1_2024)\n",
        "print(\"quy_2: \", output_model_quy_2_2024)\n",
        "print(\"quy_3: \", output_model_quy_3_2024)\n",
        "print(\"quy_4: \", output_model_quy_4_2024)"
      ],
      "metadata": {
        "colab": {
          "base_uri": "https://localhost:8080/"
        },
        "id": "8ACFH2EG1oWC",
        "outputId": "f2d25354-6811-41d2-c9c9-955e58b97f10"
      },
      "execution_count": 48,
      "outputs": [
        {
          "output_type": "stream",
          "name": "stdout",
          "text": [
            "quy_1:  [[600.]]\n",
            "quy_2:  [[400.]]\n",
            "quy_3:  [[800.]]\n",
            "quy_4:  [[600.]]\n"
          ]
        }
      ]
    },
    {
      "cell_type": "code",
      "source": [
        "# visualize\n",
        "data_luong_predict = np.array([float(output_model_quy_1_2024),float(output_model_quy_2_2024),float(output_model_quy_3_2024),float(output_model_quy_4_2024)])"
      ],
      "metadata": {
        "id": "s83w3KCm1t0s"
      },
      "execution_count": 50,
      "outputs": []
    },
    {
      "cell_type": "code",
      "source": [
        "data_luong_predict"
      ],
      "metadata": {
        "colab": {
          "base_uri": "https://localhost:8080/"
        },
        "id": "foQoIAHU2bNa",
        "outputId": "98d3d8f1-955d-47bd-ed5a-d0b7b86a7820"
      },
      "execution_count": 51,
      "outputs": [
        {
          "output_type": "execute_result",
          "data": {
            "text/plain": [
              "array([600., 400., 800., 600.])"
            ]
          },
          "metadata": {},
          "execution_count": 51
        }
      ]
    },
    {
      "cell_type": "code",
      "source": [
        "import matplotlib.pyplot as plt\n",
        "import numpy as np\n",
        "\n",
        "\n",
        "# Creating figure and axis\n",
        "fig, ax = plt.subplots()\n",
        "\n",
        "# Plotting the first array with indices 1 to 12\n",
        "ax.bar(np.arange(1, 13), data_luong, label='data from 2021 to 2023')\n",
        "\n",
        "# Plotting the second array with indices 13 to 16\n",
        "ax.bar(np.arange(13, 17), data_luong_predict, label='predict in 2024')\n",
        "\n",
        "# Adding labels and title\n",
        "ax.set_xlabel('Index')\n",
        "ax.set_ylabel('Values')\n",
        "ax.set_title('Visualization of Two Arrays with Specific Indices')\n",
        "ax.legend()\n",
        "\n",
        "# Display the plot\n",
        "plt.show()"
      ],
      "metadata": {
        "colab": {
          "base_uri": "https://localhost:8080/",
          "height": 472
        },
        "id": "hztTry3E2tNE",
        "outputId": "1a0534ee-1ce9-4a31-fbac-6f9fc66d27cf"
      },
      "execution_count": 53,
      "outputs": [
        {
          "output_type": "display_data",
          "data": {
            "text/plain": [
              "<Figure size 640x480 with 1 Axes>"
            ],
            "image/png": "[encoded data removed]"
          },
          "metadata": {}
        }
      ]
    },
    {
      "cell_type": "code",
      "source": [
        "import matplotlib.pyplot as plt\n",
        "import numpy as np\n",
        "\n",
        "\n",
        "# Creating figure and axis\n",
        "fig, ax = plt.subplots()\n",
        "\n",
        "# Plotting the first array with lines and markers\n",
        "ax.plot(np.arange(1, 13), data_luong, label='data from 2021 to 2023', marker='o')\n",
        "\n",
        "# Plotting the second array with lines and markers\n",
        "ax.plot(np.arange(13, 17), data_luong_predict, label='predict in 2024', marker='o')\n",
        "ax.plot([12, 13], [data_luong[-1], data_luong_predict[0]], color='orange', linestyle='--')\n",
        "# Adding labels and title\n",
        "ax.set_xlabel('Index')\n",
        "ax.set_ylabel('Values')\n",
        "ax.set_title('Line Plot of Two Arrays with Specific Indices')\n",
        "ax.legend()\n",
        "\n",
        "# Display the plot\n",
        "plt.show()"
      ],
      "metadata": {
        "colab": {
          "base_uri": "https://localhost:8080/",
          "height": 472
        },
        "id": "BoCWPpFP3EPB",
        "outputId": "e5daa587-d134-4a4d-8d87-5d572a750560"
      },
      "execution_count": 56,
      "outputs": [
        {
          "output_type": "display_data",
          "data": {
            "text/plain": [
              "<Figure size 640x480 with 1 Axes>"
            ],
            "image/png": "[encoded data removed]"
          },
          "metadata": {}
        }
      ]
    },
    {
      "cell_type": "code",
      "source": [],
      "metadata": {
        "id": "ZoicwVun3oIQ"
      },
      "execution_count": null,
      "outputs": []
    }
  ]
}